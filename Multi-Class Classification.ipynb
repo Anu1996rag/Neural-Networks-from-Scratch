{
 "cells": [
  {
   "cell_type": "markdown",
   "metadata": {},
   "source": [
    "#### This code demonstrates the implementation of Multiclass Classification using Neural Network approach\n",
    "\n",
    "###### The 5-Step Model Life-Cycle\n",
    "\n",
    "\n",
    "A model has a life-cycle, and this very simple knowledge provides the backbone for both modeling a dataset and understanding the tf.keras API.\n",
    "\n",
    "The five steps in the life-cycle are as follows:\n",
    "\n",
    "1. Define the model.\n",
    "2. Compile the model.\n",
    "3. Fit the model.\n",
    "4. Evaluate the model.\n",
    "5. Make predictions.\n",
    "\n",
    "##### Reference :https://machinelearningmastery.com/tensorflow-tutorial-deep-learning-with-tf-keras/"
   ]
  },
  {
   "cell_type": "code",
   "execution_count": 3,
   "metadata": {},
   "outputs": [],
   "source": [
    "#importing the relevant libraries\n",
    "import numpy as np\n",
    "import pandas as pd\n",
    "from sklearn.model_selection import train_test_split\n",
    "from tensorflow.keras import Sequential\n",
    "from tensorflow.keras.layers import Dense\n",
    "from sklearn.preprocessing import LabelEncoder\n",
    "import warnings\n",
    "warnings.filterwarnings('ignore')"
   ]
  },
  {
   "cell_type": "code",
   "execution_count": 6,
   "metadata": {},
   "outputs": [],
   "source": [
    "#loading the dataset \n",
    "irisData = pd.read_csv('https://raw.githubusercontent.com/jbrownlee/Datasets/master/iris.csv',header=None)"
   ]
  },
  {
   "cell_type": "code",
   "execution_count": 7,
   "metadata": {},
   "outputs": [
    {
     "data": {
      "text/html": [
       "<div>\n",
       "<style scoped>\n",
       "    .dataframe tbody tr th:only-of-type {\n",
       "        vertical-align: middle;\n",
       "    }\n",
       "\n",
       "    .dataframe tbody tr th {\n",
       "        vertical-align: top;\n",
       "    }\n",
       "\n",
       "    .dataframe thead th {\n",
       "        text-align: right;\n",
       "    }\n",
       "</style>\n",
       "<table border=\"1\" class=\"dataframe\">\n",
       "  <thead>\n",
       "    <tr style=\"text-align: right;\">\n",
       "      <th></th>\n",
       "      <th>0</th>\n",
       "      <th>1</th>\n",
       "      <th>2</th>\n",
       "      <th>3</th>\n",
       "      <th>4</th>\n",
       "    </tr>\n",
       "  </thead>\n",
       "  <tbody>\n",
       "    <tr>\n",
       "      <th>0</th>\n",
       "      <td>5.1</td>\n",
       "      <td>3.5</td>\n",
       "      <td>1.4</td>\n",
       "      <td>0.2</td>\n",
       "      <td>Iris-setosa</td>\n",
       "    </tr>\n",
       "    <tr>\n",
       "      <th>1</th>\n",
       "      <td>4.9</td>\n",
       "      <td>3.0</td>\n",
       "      <td>1.4</td>\n",
       "      <td>0.2</td>\n",
       "      <td>Iris-setosa</td>\n",
       "    </tr>\n",
       "    <tr>\n",
       "      <th>2</th>\n",
       "      <td>4.7</td>\n",
       "      <td>3.2</td>\n",
       "      <td>1.3</td>\n",
       "      <td>0.2</td>\n",
       "      <td>Iris-setosa</td>\n",
       "    </tr>\n",
       "    <tr>\n",
       "      <th>3</th>\n",
       "      <td>4.6</td>\n",
       "      <td>3.1</td>\n",
       "      <td>1.5</td>\n",
       "      <td>0.2</td>\n",
       "      <td>Iris-setosa</td>\n",
       "    </tr>\n",
       "    <tr>\n",
       "      <th>4</th>\n",
       "      <td>5.0</td>\n",
       "      <td>3.6</td>\n",
       "      <td>1.4</td>\n",
       "      <td>0.2</td>\n",
       "      <td>Iris-setosa</td>\n",
       "    </tr>\n",
       "  </tbody>\n",
       "</table>\n",
       "</div>"
      ],
      "text/plain": [
       "     0    1    2    3            4\n",
       "0  5.1  3.5  1.4  0.2  Iris-setosa\n",
       "1  4.9  3.0  1.4  0.2  Iris-setosa\n",
       "2  4.7  3.2  1.3  0.2  Iris-setosa\n",
       "3  4.6  3.1  1.5  0.2  Iris-setosa\n",
       "4  5.0  3.6  1.4  0.2  Iris-setosa"
      ]
     },
     "execution_count": 7,
     "metadata": {},
     "output_type": "execute_result"
    }
   ],
   "source": [
    "irisData.head()"
   ]
  },
  {
   "cell_type": "code",
   "execution_count": 8,
   "metadata": {},
   "outputs": [
    {
     "name": "stdout",
     "output_type": "stream",
     "text": [
      "<class 'pandas.core.frame.DataFrame'>\n",
      "RangeIndex: 150 entries, 0 to 149\n",
      "Data columns (total 5 columns):\n",
      " #   Column  Non-Null Count  Dtype  \n",
      "---  ------  --------------  -----  \n",
      " 0   0       150 non-null    float64\n",
      " 1   1       150 non-null    float64\n",
      " 2   2       150 non-null    float64\n",
      " 3   3       150 non-null    float64\n",
      " 4   4       150 non-null    object \n",
      "dtypes: float64(4), object(1)\n",
      "memory usage: 6.0+ KB\n"
     ]
    }
   ],
   "source": [
    "irisData.info()"
   ]
  },
  {
   "cell_type": "code",
   "execution_count": 10,
   "metadata": {},
   "outputs": [
    {
     "data": {
      "text/plain": [
       "Iris-virginica     50\n",
       "Iris-versicolor    50\n",
       "Iris-setosa        50\n",
       "Name: 4, dtype: int64"
      ]
     },
     "execution_count": 10,
     "metadata": {},
     "output_type": "execute_result"
    }
   ],
   "source": [
    "#total no. of classes and their frequency in the dataset\n",
    "irisData[4].value_counts()"
   ]
  },
  {
   "cell_type": "code",
   "execution_count": 11,
   "metadata": {},
   "outputs": [],
   "source": [
    "#declaring the input and output columns\n",
    "X = irisData.values[:,:-1]\n",
    "y = irisData.values[:,-1]"
   ]
  },
  {
   "cell_type": "code",
   "execution_count": 12,
   "metadata": {},
   "outputs": [],
   "source": [
    "#converting the output variable from string into integer\n",
    "y = LabelEncoder().fit_transform(y)"
   ]
  },
  {
   "cell_type": "code",
   "execution_count": 17,
   "metadata": {},
   "outputs": [
    {
     "name": "stdout",
     "output_type": "stream",
     "text": [
      "****** Dimensions of train and test dataset ******\n",
      " X-train : (100, 4)\n",
      " X-test : (50, 4)\n",
      " y-train : (100,)\n",
      " y-test : (50,)\n"
     ]
    }
   ],
   "source": [
    "#splitting the dataset into train and test set\n",
    "X_train, X_test, y_train, y_test = train_test_split(X, y, test_size=0.33)\n",
    "print(\"****** Dimensions of train and test dataset ******\\n X-train : {}\\n X-test : {}\\n y-train : {}\\n y-test : {}\".format(X_train.shape,X_test.shape,y_train.shape,y_test.shape))"
   ]
  },
  {
   "cell_type": "code",
   "execution_count": 18,
   "metadata": {},
   "outputs": [],
   "source": [
    "#determining the input features \n",
    "inputFeatures = X_train.shape[1]"
   ]
  },
  {
   "cell_type": "code",
   "execution_count": 26,
   "metadata": {},
   "outputs": [
    {
     "name": "stdout",
     "output_type": "stream",
     "text": [
      "Model: \"sequential_1\"\n",
      "_________________________________________________________________\n",
      "Layer (type)                 Output Shape              Param #   \n",
      "=================================================================\n",
      "dense_3 (Dense)              (None, 4)                 20        \n",
      "_________________________________________________________________\n",
      "dense_4 (Dense)              (None, 8)                 40        \n",
      "_________________________________________________________________\n",
      "dense_5 (Dense)              (None, 3)                 27        \n",
      "=================================================================\n",
      "Total params: 87\n",
      "Trainable params: 87\n",
      "Non-trainable params: 0\n",
      "_________________________________________________________________\n"
     ]
    }
   ],
   "source": [
    "#defining the model structure\n",
    "model = Sequential()\n",
    "\n",
    "#input layer and first hi(dden layer\n",
    "model.add(Dense(X_train.shape[1],activation='relu',kernel_initializer='he_normal',input_shape=(inputFeatures,)))\n",
    "\n",
    "#second layer\n",
    "model.add(Dense(8,activation='relu',kernel_initializer='he_normal'))\n",
    "\n",
    "#output layer\n",
    "model.add(Dense(3,activation='softmax'))\n",
    "\n",
    "#summary of the model\n",
    "model.summary()"
   ]
  },
  {
   "cell_type": "code",
   "execution_count": 28,
   "metadata": {},
   "outputs": [],
   "source": [
    "#compiling the model\n",
    "model.compile(optimizer='adam',loss='sparse_categorical_crossentropy',metrics=['accuracy'])"
   ]
  },
  {
   "cell_type": "code",
   "execution_count": 29,
   "metadata": {},
   "outputs": [
    {
     "name": "stdout",
     "output_type": "stream",
     "text": [
      "Epoch 1/150\n",
      "100/100 [==============================] - 0s 2ms/sample - loss: 3.1126 - accuracy: 0.3000\n",
      "Epoch 2/150\n",
      "100/100 [==============================] - 0s 113us/sample - loss: 2.9420 - accuracy: 0.3000\n",
      "Epoch 3/150\n",
      "100/100 [==============================] - 0s 101us/sample - loss: 2.7795 - accuracy: 0.3000\n",
      "Epoch 4/150\n",
      "100/100 [==============================] - 0s 130us/sample - loss: 2.6296 - accuracy: 0.3000\n",
      "Epoch 5/150\n",
      "100/100 [==============================] - 0s 93us/sample - loss: 2.4990 - accuracy: 0.3000\n",
      "Epoch 6/150\n",
      "100/100 [==============================] - 0s 129us/sample - loss: 2.3787 - accuracy: 0.3000\n",
      "Epoch 7/150\n",
      "100/100 [==============================] - 0s 102us/sample - loss: 2.2622 - accuracy: 0.3000\n",
      "Epoch 8/150\n",
      "100/100 [==============================] - 0s 110us/sample - loss: 2.1579 - accuracy: 0.3100\n",
      "Epoch 9/150\n",
      "100/100 [==============================] - 0s 107us/sample - loss: 2.0680 - accuracy: 0.3100\n",
      "Epoch 10/150\n",
      "100/100 [==============================] - 0s 128us/sample - loss: 1.9825 - accuracy: 0.3200\n",
      "Epoch 11/150\n",
      "100/100 [==============================] - 0s 128us/sample - loss: 1.9128 - accuracy: 0.3400\n",
      "Epoch 12/150\n",
      "100/100 [==============================] - 0s 104us/sample - loss: 1.8461 - accuracy: 0.4300\n",
      "Epoch 13/150\n",
      "100/100 [==============================] - 0s 110us/sample - loss: 1.7912 - accuracy: 0.4500\n",
      "Epoch 14/150\n",
      "100/100 [==============================] - 0s 179us/sample - loss: 1.7389 - accuracy: 0.4700\n",
      "Epoch 15/150\n",
      "100/100 [==============================] - 0s 85us/sample - loss: 1.6830 - accuracy: 0.4700\n",
      "Epoch 16/150\n",
      "100/100 [==============================] - 0s 97us/sample - loss: 1.6367 - accuracy: 0.4800\n",
      "Epoch 17/150\n",
      "100/100 [==============================] - 0s 152us/sample - loss: 1.5919 - accuracy: 0.4800\n",
      "Epoch 18/150\n",
      "100/100 [==============================] - 0s 126us/sample - loss: 1.5533 - accuracy: 0.5000\n",
      "Epoch 19/150\n",
      "100/100 [==============================] - 0s 142us/sample - loss: 1.5127 - accuracy: 0.5100\n",
      "Epoch 20/150\n",
      "100/100 [==============================] - 0s 110us/sample - loss: 1.4720 - accuracy: 0.5100\n",
      "Epoch 21/150\n",
      "100/100 [==============================] - 0s 139us/sample - loss: 1.4323 - accuracy: 0.5100\n",
      "Epoch 22/150\n",
      "100/100 [==============================] - 0s 139us/sample - loss: 1.3959 - accuracy: 0.5100\n",
      "Epoch 23/150\n",
      "100/100 [==============================] - 0s 89us/sample - loss: 1.3619 - accuracy: 0.5100\n",
      "Epoch 24/150\n",
      "100/100 [==============================] - 0s 186us/sample - loss: 1.3303 - accuracy: 0.5100\n",
      "Epoch 25/150\n",
      "100/100 [==============================] - 0s 150us/sample - loss: 1.3019 - accuracy: 0.5100\n",
      "Epoch 26/150\n",
      "100/100 [==============================] - 0s 157us/sample - loss: 1.2719 - accuracy: 0.5000\n",
      "Epoch 27/150\n",
      "100/100 [==============================] - 0s 150us/sample - loss: 1.2464 - accuracy: 0.5100\n",
      "Epoch 28/150\n",
      "100/100 [==============================] - 0s 140us/sample - loss: 1.2195 - accuracy: 0.5100\n",
      "Epoch 29/150\n",
      "100/100 [==============================] - 0s 129us/sample - loss: 1.1940 - accuracy: 0.5200\n",
      "Epoch 30/150\n",
      "100/100 [==============================] - 0s 121us/sample - loss: 1.1691 - accuracy: 0.5200\n",
      "Epoch 31/150\n",
      "100/100 [==============================] - 0s 119us/sample - loss: 1.1453 - accuracy: 0.5300\n",
      "Epoch 32/150\n",
      "100/100 [==============================] - 0s 125us/sample - loss: 1.1229 - accuracy: 0.5300\n",
      "Epoch 33/150\n",
      "100/100 [==============================] - 0s 118us/sample - loss: 1.1040 - accuracy: 0.5400\n",
      "Epoch 34/150\n",
      "100/100 [==============================] - 0s 157us/sample - loss: 1.0840 - accuracy: 0.5400\n",
      "Epoch 35/150\n",
      "100/100 [==============================] - 0s 159us/sample - loss: 1.0661 - accuracy: 0.5400\n",
      "Epoch 36/150\n",
      "100/100 [==============================] - 0s 91us/sample - loss: 1.0489 - accuracy: 0.5400\n",
      "Epoch 37/150\n",
      "100/100 [==============================] - 0s 82us/sample - loss: 1.0323 - accuracy: 0.5400\n",
      "Epoch 38/150\n",
      "100/100 [==============================] - 0s 102us/sample - loss: 1.0165 - accuracy: 0.5400\n",
      "Epoch 39/150\n",
      "100/100 [==============================] - 0s 118us/sample - loss: 1.0021 - accuracy: 0.5400\n",
      "Epoch 40/150\n",
      "100/100 [==============================] - ETA: 0s - loss: 1.0977 - accuracy: 0.50 - 0s 86us/sample - loss: 0.9880 - accuracy: 0.5400\n",
      "Epoch 41/150\n",
      "100/100 [==============================] - 0s 80us/sample - loss: 0.9743 - accuracy: 0.5400\n",
      "Epoch 42/150\n",
      "100/100 [==============================] - 0s 106us/sample - loss: 0.9619 - accuracy: 0.5400\n",
      "Epoch 43/150\n",
      "100/100 [==============================] - 0s 133us/sample - loss: 0.9491 - accuracy: 0.5400\n",
      "Epoch 44/150\n",
      "100/100 [==============================] - 0s 107us/sample - loss: 0.9364 - accuracy: 0.5400\n",
      "Epoch 45/150\n",
      "100/100 [==============================] - 0s 146us/sample - loss: 0.9240 - accuracy: 0.5600\n",
      "Epoch 46/150\n",
      "100/100 [==============================] - 0s 139us/sample - loss: 0.9115 - accuracy: 0.5600\n",
      "Epoch 47/150\n",
      "100/100 [==============================] - 0s 102us/sample - loss: 0.8993 - accuracy: 0.5600\n",
      "Epoch 48/150\n",
      "100/100 [==============================] - 0s 103us/sample - loss: 0.8882 - accuracy: 0.5600\n",
      "Epoch 49/150\n",
      "100/100 [==============================] - 0s 161us/sample - loss: 0.8766 - accuracy: 0.5600\n",
      "Epoch 50/150\n",
      "100/100 [==============================] - 0s 136us/sample - loss: 0.8650 - accuracy: 0.5600\n",
      "Epoch 51/150\n",
      "100/100 [==============================] - 0s 163us/sample - loss: 0.8535 - accuracy: 0.5600\n",
      "Epoch 52/150\n",
      "100/100 [==============================] - 0s 109us/sample - loss: 0.8419 - accuracy: 0.5600\n",
      "Epoch 53/150\n",
      "100/100 [==============================] - 0s 123us/sample - loss: 0.8315 - accuracy: 0.5600\n",
      "Epoch 54/150\n",
      "100/100 [==============================] - 0s 109us/sample - loss: 0.8213 - accuracy: 0.5600\n",
      "Epoch 55/150\n",
      "100/100 [==============================] - 0s 89us/sample - loss: 0.8115 - accuracy: 0.5600\n",
      "Epoch 56/150\n",
      "100/100 [==============================] - 0s 130us/sample - loss: 0.8025 - accuracy: 0.5600\n",
      "Epoch 57/150\n",
      "100/100 [==============================] - 0s 90us/sample - loss: 0.7943 - accuracy: 0.5600\n",
      "Epoch 58/150\n",
      "100/100 [==============================] - 0s 98us/sample - loss: 0.7859 - accuracy: 0.5600\n",
      "Epoch 59/150\n",
      "100/100 [==============================] - 0s 133us/sample - loss: 0.7784 - accuracy: 0.5600\n",
      "Epoch 60/150\n",
      "100/100 [==============================] - 0s 168us/sample - loss: 0.7705 - accuracy: 0.5600\n",
      "Epoch 61/150\n",
      "100/100 [==============================] - 0s 303us/sample - loss: 0.7635 - accuracy: 0.5700\n",
      "Epoch 62/150\n",
      "100/100 [==============================] - 0s 150us/sample - loss: 0.7563 - accuracy: 0.5700\n",
      "Epoch 63/150\n",
      "100/100 [==============================] - 0s 151us/sample - loss: 0.7490 - accuracy: 0.5800\n",
      "Epoch 64/150\n",
      "100/100 [==============================] - 0s 177us/sample - loss: 0.7426 - accuracy: 0.5900\n",
      "Epoch 65/150\n",
      "100/100 [==============================] - 0s 123us/sample - loss: 0.7360 - accuracy: 0.6100\n",
      "Epoch 66/150\n",
      "100/100 [==============================] - 0s 143us/sample - loss: 0.7298 - accuracy: 0.6200\n",
      "Epoch 67/150\n",
      "100/100 [==============================] - 0s 115us/sample - loss: 0.7239 - accuracy: 0.6300\n",
      "Epoch 68/150\n",
      "100/100 [==============================] - 0s 142us/sample - loss: 0.7183 - accuracy: 0.6400\n",
      "Epoch 69/150\n",
      "100/100 [==============================] - 0s 125us/sample - loss: 0.7123 - accuracy: 0.6800\n",
      "Epoch 70/150\n",
      "100/100 [==============================] - 0s 134us/sample - loss: 0.7079 - accuracy: 0.6900\n",
      "Epoch 71/150\n",
      "100/100 [==============================] - 0s 127us/sample - loss: 0.7029 - accuracy: 0.7200\n",
      "Epoch 72/150\n",
      "100/100 [==============================] - 0s 122us/sample - loss: 0.6973 - accuracy: 0.7700\n",
      "Epoch 73/150\n",
      "100/100 [==============================] - 0s 85us/sample - loss: 0.6900 - accuracy: 0.8000\n",
      "Epoch 74/150\n",
      "100/100 [==============================] - 0s 145us/sample - loss: 0.6843 - accuracy: 0.8200\n",
      "Epoch 75/150\n",
      "100/100 [==============================] - 0s 77us/sample - loss: 0.6779 - accuracy: 0.8200\n",
      "Epoch 76/150\n",
      "100/100 [==============================] - 0s 108us/sample - loss: 0.6720 - accuracy: 0.8200\n",
      "Epoch 77/150\n",
      "100/100 [==============================] - 0s 97us/sample - loss: 0.6671 - accuracy: 0.8400\n",
      "Epoch 78/150\n"
     ]
    },
    {
     "name": "stdout",
     "output_type": "stream",
     "text": [
      "100/100 [==============================] - 0s 124us/sample - loss: 0.6614 - accuracy: 0.8500\n",
      "Epoch 79/150\n",
      "100/100 [==============================] - 0s 90us/sample - loss: 0.6569 - accuracy: 0.8500\n",
      "Epoch 80/150\n",
      "100/100 [==============================] - 0s 115us/sample - loss: 0.6529 - accuracy: 0.8700\n",
      "Epoch 81/150\n",
      "100/100 [==============================] - 0s 109us/sample - loss: 0.6479 - accuracy: 0.8900\n",
      "Epoch 82/150\n",
      "100/100 [==============================] - 0s 115us/sample - loss: 0.6425 - accuracy: 0.8900\n",
      "Epoch 83/150\n",
      "100/100 [==============================] - 0s 116us/sample - loss: 0.6372 - accuracy: 0.9000\n",
      "Epoch 84/150\n",
      "100/100 [==============================] - 0s 113us/sample - loss: 0.6318 - accuracy: 0.9000\n",
      "Epoch 85/150\n",
      "100/100 [==============================] - 0s 100us/sample - loss: 0.6272 - accuracy: 0.9000\n",
      "Epoch 86/150\n",
      "100/100 [==============================] - 0s 105us/sample - loss: 0.6209 - accuracy: 0.9000\n",
      "Epoch 87/150\n",
      "100/100 [==============================] - 0s 85us/sample - loss: 0.6163 - accuracy: 0.9000\n",
      "Epoch 88/150\n",
      "100/100 [==============================] - 0s 72us/sample - loss: 0.6114 - accuracy: 0.9000\n",
      "Epoch 89/150\n",
      "100/100 [==============================] - 0s 126us/sample - loss: 0.6068 - accuracy: 0.9100\n",
      "Epoch 90/150\n",
      "100/100 [==============================] - 0s 116us/sample - loss: 0.6024 - accuracy: 0.9100\n",
      "Epoch 91/150\n",
      "100/100 [==============================] - 0s 89us/sample - loss: 0.5983 - accuracy: 0.9100\n",
      "Epoch 92/150\n",
      "100/100 [==============================] - 0s 81us/sample - loss: 0.5935 - accuracy: 0.9100\n",
      "Epoch 93/150\n",
      "100/100 [==============================] - 0s 114us/sample - loss: 0.5892 - accuracy: 0.9100\n",
      "Epoch 94/150\n",
      "100/100 [==============================] - 0s 107us/sample - loss: 0.5842 - accuracy: 0.9100\n",
      "Epoch 95/150\n",
      "100/100 [==============================] - 0s 88us/sample - loss: 0.5803 - accuracy: 0.9300\n",
      "Epoch 96/150\n",
      "100/100 [==============================] - 0s 93us/sample - loss: 0.5752 - accuracy: 0.9400\n",
      "Epoch 97/150\n",
      "100/100 [==============================] - 0s 87us/sample - loss: 0.5707 - accuracy: 0.9300\n",
      "Epoch 98/150\n",
      "100/100 [==============================] - 0s 104us/sample - loss: 0.5662 - accuracy: 0.9300\n",
      "Epoch 99/150\n",
      "100/100 [==============================] - 0s 113us/sample - loss: 0.5615 - accuracy: 0.9300\n",
      "Epoch 100/150\n",
      "100/100 [==============================] - 0s 64us/sample - loss: 0.5583 - accuracy: 0.9300\n",
      "Epoch 101/150\n",
      "100/100 [==============================] - 0s 99us/sample - loss: 0.5539 - accuracy: 0.9300\n",
      "Epoch 102/150\n",
      "100/100 [==============================] - 0s 156us/sample - loss: 0.5484 - accuracy: 0.9300\n",
      "Epoch 103/150\n",
      "100/100 [==============================] - 0s 90us/sample - loss: 0.5435 - accuracy: 0.9300\n",
      "Epoch 104/150\n",
      "100/100 [==============================] - 0s 97us/sample - loss: 0.5395 - accuracy: 0.9400\n",
      "Epoch 105/150\n",
      "100/100 [==============================] - 0s 139us/sample - loss: 0.5347 - accuracy: 0.9300\n",
      "Epoch 106/150\n",
      "100/100 [==============================] - 0s 100us/sample - loss: 0.5301 - accuracy: 0.9400\n",
      "Epoch 107/150\n",
      "100/100 [==============================] - 0s 76us/sample - loss: 0.5261 - accuracy: 0.9300\n",
      "Epoch 108/150\n",
      "100/100 [==============================] - 0s 91us/sample - loss: 0.5228 - accuracy: 0.9300\n",
      "Epoch 109/150\n",
      "100/100 [==============================] - 0s 108us/sample - loss: 0.5205 - accuracy: 0.9300\n",
      "Epoch 110/150\n",
      "100/100 [==============================] - 0s 113us/sample - loss: 0.5172 - accuracy: 0.9300\n",
      "Epoch 111/150\n",
      "100/100 [==============================] - 0s 76us/sample - loss: 0.5141 - accuracy: 0.9300\n",
      "Epoch 112/150\n",
      "100/100 [==============================] - 0s 108us/sample - loss: 0.5103 - accuracy: 0.9300\n",
      "Epoch 113/150\n",
      "100/100 [==============================] - 0s 68us/sample - loss: 0.5063 - accuracy: 0.9300\n",
      "Epoch 114/150\n",
      "100/100 [==============================] - 0s 104us/sample - loss: 0.5015 - accuracy: 0.9300\n",
      "Epoch 115/150\n",
      "100/100 [==============================] - 0s 96us/sample - loss: 0.4967 - accuracy: 0.9300\n",
      "Epoch 116/150\n",
      "100/100 [==============================] - 0s 90us/sample - loss: 0.4904 - accuracy: 0.9300\n",
      "Epoch 117/150\n",
      "100/100 [==============================] - 0s 84us/sample - loss: 0.4851 - accuracy: 0.9300\n",
      "Epoch 118/150\n",
      "100/100 [==============================] - 0s 91us/sample - loss: 0.4820 - accuracy: 0.9400\n",
      "Epoch 119/150\n",
      "100/100 [==============================] - 0s 107us/sample - loss: 0.4765 - accuracy: 0.9400\n",
      "Epoch 120/150\n",
      "100/100 [==============================] - 0s 77us/sample - loss: 0.4721 - accuracy: 0.9400\n",
      "Epoch 121/150\n",
      "100/100 [==============================] - 0s 97us/sample - loss: 0.4674 - accuracy: 0.9400\n",
      "Epoch 122/150\n",
      "100/100 [==============================] - 0s 87us/sample - loss: 0.4631 - accuracy: 0.9400\n",
      "Epoch 123/150\n",
      "100/100 [==============================] - 0s 107us/sample - loss: 0.4589 - accuracy: 0.9400\n",
      "Epoch 124/150\n",
      "100/100 [==============================] - 0s 101us/sample - loss: 0.4542 - accuracy: 0.9300\n",
      "Epoch 125/150\n",
      "100/100 [==============================] - 0s 111us/sample - loss: 0.4510 - accuracy: 0.9400\n",
      "Epoch 126/150\n",
      "100/100 [==============================] - 0s 117us/sample - loss: 0.4467 - accuracy: 0.9400\n",
      "Epoch 127/150\n",
      "100/100 [==============================] - 0s 95us/sample - loss: 0.4422 - accuracy: 0.9400\n",
      "Epoch 128/150\n",
      "100/100 [==============================] - 0s 91us/sample - loss: 0.4378 - accuracy: 0.9400\n",
      "Epoch 129/150\n",
      "100/100 [==============================] - 0s 109us/sample - loss: 0.4333 - accuracy: 0.9400\n",
      "Epoch 130/150\n",
      "100/100 [==============================] - 0s 126us/sample - loss: 0.4292 - accuracy: 0.9300\n",
      "Epoch 131/150\n",
      "100/100 [==============================] - 0s 114us/sample - loss: 0.4250 - accuracy: 0.9300\n",
      "Epoch 132/150\n",
      "100/100 [==============================] - 0s 115us/sample - loss: 0.4212 - accuracy: 0.9300\n",
      "Epoch 133/150\n",
      "100/100 [==============================] - 0s 149us/sample - loss: 0.4170 - accuracy: 0.9400\n",
      "Epoch 134/150\n",
      "100/100 [==============================] - 0s 83us/sample - loss: 0.4145 - accuracy: 0.9300\n",
      "Epoch 135/150\n",
      "100/100 [==============================] - 0s 117us/sample - loss: 0.4110 - accuracy: 0.9300\n",
      "Epoch 136/150\n",
      "100/100 [==============================] - 0s 87us/sample - loss: 0.4077 - accuracy: 0.9300\n",
      "Epoch 137/150\n",
      "100/100 [==============================] - 0s 74us/sample - loss: 0.4028 - accuracy: 0.9300\n",
      "Epoch 138/150\n",
      "100/100 [==============================] - 0s 121us/sample - loss: 0.3974 - accuracy: 0.9300\n",
      "Epoch 139/150\n",
      "100/100 [==============================] - 0s 99us/sample - loss: 0.3933 - accuracy: 0.9400\n",
      "Epoch 140/150\n",
      "100/100 [==============================] - 0s 144us/sample - loss: 0.3897 - accuracy: 0.9300\n",
      "Epoch 141/150\n",
      "100/100 [==============================] - 0s 99us/sample - loss: 0.3862 - accuracy: 0.9300\n",
      "Epoch 142/150\n",
      "100/100 [==============================] - 0s 139us/sample - loss: 0.3814 - accuracy: 0.9400\n",
      "Epoch 143/150\n",
      "100/100 [==============================] - 0s 130us/sample - loss: 0.3776 - accuracy: 0.9500\n",
      "Epoch 144/150\n",
      "100/100 [==============================] - 0s 121us/sample - loss: 0.3740 - accuracy: 0.9500\n",
      "Epoch 145/150\n",
      "100/100 [==============================] - 0s 123us/sample - loss: 0.3698 - accuracy: 0.9500\n",
      "Epoch 146/150\n",
      "100/100 [==============================] - 0s 94us/sample - loss: 0.3659 - accuracy: 0.9500\n",
      "Epoch 147/150\n",
      "100/100 [==============================] - 0s 140us/sample - loss: 0.3614 - accuracy: 0.9500\n",
      "Epoch 148/150\n",
      "100/100 [==============================] - 0s 131us/sample - loss: 0.3572 - accuracy: 0.9500\n",
      "Epoch 149/150\n",
      "100/100 [==============================] - 0s 163us/sample - loss: 0.3527 - accuracy: 0.9500\n",
      "Epoch 150/150\n",
      "100/100 [==============================] - 0s 124us/sample - loss: 0.3482 - accuracy: 0.9400\n"
     ]
    }
   ],
   "source": [
    "#fitting the model\n",
    "Model = model.fit(X_train,y_train,epochs=150,batch_size=32,verbose=1)"
   ]
  },
  {
   "cell_type": "code",
   "execution_count": 30,
   "metadata": {},
   "outputs": [
    {
     "data": {
      "text/plain": [
       "{'batch_size': 32,\n",
       " 'epochs': 150,\n",
       " 'steps': None,\n",
       " 'samples': 100,\n",
       " 'verbose': 1,\n",
       " 'do_validation': False,\n",
       " 'metrics': ['loss', 'accuracy']}"
      ]
     },
     "execution_count": 30,
     "metadata": {},
     "output_type": "execute_result"
    }
   ],
   "source": [
    "#showing the model parameters \n",
    "Model.params"
   ]
  },
  {
   "cell_type": "code",
   "execution_count": 33,
   "metadata": {},
   "outputs": [
    {
     "name": "stdout",
     "output_type": "stream",
     "text": [
      "Test accuracy : 0.98\n"
     ]
    }
   ],
   "source": [
    "#evaluating the model\n",
    "loss,accuracy = model.evaluate(X_test,y_test,verbose=0)\n",
    "print(\"Test accuracy :\",accuracy)"
   ]
  },
  {
   "cell_type": "code",
   "execution_count": 39,
   "metadata": {},
   "outputs": [
    {
     "data": {
      "image/png": "[encoded data removed]",
      "text/plain": [
       "<Figure size 648x504 with 1 Axes>"
      ]
     },
     "metadata": {
      "needs_background": "light"
     },
     "output_type": "display_data"
    }
   ],
   "source": [
    "#displaying the learning curves\n",
    "import matplotlib.pyplot as plt\n",
    "\n",
    "plt.figure(figsize=(9,7))\n",
    "plt.plot(Model.history['loss'],label='train')\n",
    "plt.xlabel('No. of Epochs')\n",
    "plt.ylabel('Loss')\n",
    "plt.title('Learning Curves')\n",
    "plt.legend()\n",
    "plt.show()"
   ]
  },
  {
   "cell_type": "code",
   "execution_count": 44,
   "metadata": {},
   "outputs": [
    {
     "name": "stdout",
     "output_type": "stream",
     "text": [
      "Prediction : [[0.7243624  0.16102645 0.11461113]] \n",
      "Predicted Class: 0\n"
     ]
    }
   ],
   "source": [
    "#making predictions\n",
    "data = np.array([5.1,3.5,1.4,0.2]).reshape(1,-1)\n",
    "prediction = model.predict(data)\n",
    "print(\"Prediction :\",prediction,\"\\nPredicted Class:\",np.argmax(prediction))"
   ]
  }
 ],
 "metadata": {
  "kernelspec": {
   "display_name": "Python 3",
   "language": "python",
   "name": "python3"
  },
  "language_info": {
   "codemirror_mode": {
    "name": "ipython",
    "version": 3
   },
   "file_extension": ".py",
   "mimetype": "text/x-python",
   "name": "python",
   "nbconvert_exporter": "python",
   "pygments_lexer": "ipython3",
   "version": "3.7.6"
  }
 },
 "nbformat": 4,
 "nbformat_minor": 4
}
