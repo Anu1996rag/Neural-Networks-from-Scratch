{
  "nbformat": 4,
  "nbformat_minor": 0,
  "metadata": {
    "colab": {
      "name": "Image Classifier using Sequential API.ipynb",
      "provenance": [],
      "collapsed_sections": [],
      "authorship_tag": "ABX9TyPRExva9uskeT3JDpMtvXgc",
      "include_colab_link": true
    },
    "kernelspec": {
      "name": "python3",
      "display_name": "Python 3"
    }
  },
  "cells": [
    {
      "cell_type": "markdown",
      "metadata": {
        "id": "view-in-github",
        "colab_type": "text"
      },
      "source": [
        "<a href=\"https://colab.research.google.com/github/Anu1996rag/Neural_Networks/blob/master/Image_Classifier_using_Sequential_API.ipynb\" target=\"_parent\"><img src=\"https://colab.research.google.com/assets/colab-badge.svg\" alt=\"Open In Colab\"/></a>"
      ]
    },
    {
      "cell_type": "code",
      "metadata": {
        "id": "nhM3Irpj3Kdp",
        "colab_type": "code",
        "colab": {}
      },
      "source": [
        "%tensorflow_version 2.x\n",
        "import tensorflow as tf\n",
        "from tensorflow import keras"
      ],
      "execution_count": 1,
      "outputs": []
    },
    {
      "cell_type": "markdown",
      "metadata": {
        "id": "DQ4jAqxu3pJb",
        "colab_type": "text"
      },
      "source": [
        "#### Loading the dataset\n"
      ]
    },
    {
      "cell_type": "code",
      "metadata": {
        "id": "rIeNm5my3Xob",
        "colab_type": "code",
        "colab": {}
      },
      "source": [
        "fashion_mnist = keras.datasets.fashion_mnist\n",
        "(X_train_full, y_train_full),(X_test, y_test) = fashion_mnist.load_data()"
      ],
      "execution_count": 2,
      "outputs": []
    },
    {
      "cell_type": "code",
      "metadata": {
        "id": "eZmZ97la35iK",
        "colab_type": "code",
        "colab": {
          "base_uri": "https://localhost:8080/",
          "height": 34
        },
        "outputId": "d718f03c-4940-487a-a560-b30416a0d439"
      },
      "source": [
        "X_train_full.shape"
      ],
      "execution_count": 3,
      "outputs": [
        {
          "output_type": "execute_result",
          "data": {
            "text/plain": [
              "(60000, 28, 28)"
            ]
          },
          "metadata": {
            "tags": []
          },
          "execution_count": 3
        }
      ]
    },
    {
      "cell_type": "code",
      "metadata": {
        "id": "2fTOpL254jbi",
        "colab_type": "code",
        "colab": {
          "base_uri": "https://localhost:8080/",
          "height": 1000
        },
        "outputId": "041e5d36-2608-4321-f057-01a55c86c7be"
      },
      "source": [
        "X_train_full[0]"
      ],
      "execution_count": 4,
      "outputs": [
        {
          "output_type": "execute_result",
          "data": {
            "text/plain": [
              "array([[  0,   0,   0,   0,   0,   0,   0,   0,   0,   0,   0,   0,   0,\n",
              "          0,   0,   0,   0,   0,   0,   0,   0,   0,   0,   0,   0,   0,\n",
              "          0,   0],\n",
              "       [  0,   0,   0,   0,   0,   0,   0,   0,   0,   0,   0,   0,   0,\n",
              "          0,   0,   0,   0,   0,   0,   0,   0,   0,   0,   0,   0,   0,\n",
              "          0,   0],\n",
              "       [  0,   0,   0,   0,   0,   0,   0,   0,   0,   0,   0,   0,   0,\n",
              "          0,   0,   0,   0,   0,   0,   0,   0,   0,   0,   0,   0,   0,\n",
              "          0,   0],\n",
              "       [  0,   0,   0,   0,   0,   0,   0,   0,   0,   0,   0,   0,   1,\n",
              "          0,   0,  13,  73,   0,   0,   1,   4,   0,   0,   0,   0,   1,\n",
              "          1,   0],\n",
              "       [  0,   0,   0,   0,   0,   0,   0,   0,   0,   0,   0,   0,   3,\n",
              "          0,  36, 136, 127,  62,  54,   0,   0,   0,   1,   3,   4,   0,\n",
              "          0,   3],\n",
              "       [  0,   0,   0,   0,   0,   0,   0,   0,   0,   0,   0,   0,   6,\n",
              "          0, 102, 204, 176, 134, 144, 123,  23,   0,   0,   0,   0,  12,\n",
              "         10,   0],\n",
              "       [  0,   0,   0,   0,   0,   0,   0,   0,   0,   0,   0,   0,   0,\n",
              "          0, 155, 236, 207, 178, 107, 156, 161, 109,  64,  23,  77, 130,\n",
              "         72,  15],\n",
              "       [  0,   0,   0,   0,   0,   0,   0,   0,   0,   0,   0,   1,   0,\n",
              "         69, 207, 223, 218, 216, 216, 163, 127, 121, 122, 146, 141,  88,\n",
              "        172,  66],\n",
              "       [  0,   0,   0,   0,   0,   0,   0,   0,   0,   1,   1,   1,   0,\n",
              "        200, 232, 232, 233, 229, 223, 223, 215, 213, 164, 127, 123, 196,\n",
              "        229,   0],\n",
              "       [  0,   0,   0,   0,   0,   0,   0,   0,   0,   0,   0,   0,   0,\n",
              "        183, 225, 216, 223, 228, 235, 227, 224, 222, 224, 221, 223, 245,\n",
              "        173,   0],\n",
              "       [  0,   0,   0,   0,   0,   0,   0,   0,   0,   0,   0,   0,   0,\n",
              "        193, 228, 218, 213, 198, 180, 212, 210, 211, 213, 223, 220, 243,\n",
              "        202,   0],\n",
              "       [  0,   0,   0,   0,   0,   0,   0,   0,   0,   1,   3,   0,  12,\n",
              "        219, 220, 212, 218, 192, 169, 227, 208, 218, 224, 212, 226, 197,\n",
              "        209,  52],\n",
              "       [  0,   0,   0,   0,   0,   0,   0,   0,   0,   0,   6,   0,  99,\n",
              "        244, 222, 220, 218, 203, 198, 221, 215, 213, 222, 220, 245, 119,\n",
              "        167,  56],\n",
              "       [  0,   0,   0,   0,   0,   0,   0,   0,   0,   4,   0,   0,  55,\n",
              "        236, 228, 230, 228, 240, 232, 213, 218, 223, 234, 217, 217, 209,\n",
              "         92,   0],\n",
              "       [  0,   0,   1,   4,   6,   7,   2,   0,   0,   0,   0,   0, 237,\n",
              "        226, 217, 223, 222, 219, 222, 221, 216, 223, 229, 215, 218, 255,\n",
              "         77,   0],\n",
              "       [  0,   3,   0,   0,   0,   0,   0,   0,   0,  62, 145, 204, 228,\n",
              "        207, 213, 221, 218, 208, 211, 218, 224, 223, 219, 215, 224, 244,\n",
              "        159,   0],\n",
              "       [  0,   0,   0,   0,  18,  44,  82, 107, 189, 228, 220, 222, 217,\n",
              "        226, 200, 205, 211, 230, 224, 234, 176, 188, 250, 248, 233, 238,\n",
              "        215,   0],\n",
              "       [  0,  57, 187, 208, 224, 221, 224, 208, 204, 214, 208, 209, 200,\n",
              "        159, 245, 193, 206, 223, 255, 255, 221, 234, 221, 211, 220, 232,\n",
              "        246,   0],\n",
              "       [  3, 202, 228, 224, 221, 211, 211, 214, 205, 205, 205, 220, 240,\n",
              "         80, 150, 255, 229, 221, 188, 154, 191, 210, 204, 209, 222, 228,\n",
              "        225,   0],\n",
              "       [ 98, 233, 198, 210, 222, 229, 229, 234, 249, 220, 194, 215, 217,\n",
              "        241,  65,  73, 106, 117, 168, 219, 221, 215, 217, 223, 223, 224,\n",
              "        229,  29],\n",
              "       [ 75, 204, 212, 204, 193, 205, 211, 225, 216, 185, 197, 206, 198,\n",
              "        213, 240, 195, 227, 245, 239, 223, 218, 212, 209, 222, 220, 221,\n",
              "        230,  67],\n",
              "       [ 48, 203, 183, 194, 213, 197, 185, 190, 194, 192, 202, 214, 219,\n",
              "        221, 220, 236, 225, 216, 199, 206, 186, 181, 177, 172, 181, 205,\n",
              "        206, 115],\n",
              "       [  0, 122, 219, 193, 179, 171, 183, 196, 204, 210, 213, 207, 211,\n",
              "        210, 200, 196, 194, 191, 195, 191, 198, 192, 176, 156, 167, 177,\n",
              "        210,  92],\n",
              "       [  0,   0,  74, 189, 212, 191, 175, 172, 175, 181, 185, 188, 189,\n",
              "        188, 193, 198, 204, 209, 210, 210, 211, 188, 188, 194, 192, 216,\n",
              "        170,   0],\n",
              "       [  2,   0,   0,   0,  66, 200, 222, 237, 239, 242, 246, 243, 244,\n",
              "        221, 220, 193, 191, 179, 182, 182, 181, 176, 166, 168,  99,  58,\n",
              "          0,   0],\n",
              "       [  0,   0,   0,   0,   0,   0,   0,  40,  61,  44,  72,  41,  35,\n",
              "          0,   0,   0,   0,   0,   0,   0,   0,   0,   0,   0,   0,   0,\n",
              "          0,   0],\n",
              "       [  0,   0,   0,   0,   0,   0,   0,   0,   0,   0,   0,   0,   0,\n",
              "          0,   0,   0,   0,   0,   0,   0,   0,   0,   0,   0,   0,   0,\n",
              "          0,   0],\n",
              "       [  0,   0,   0,   0,   0,   0,   0,   0,   0,   0,   0,   0,   0,\n",
              "          0,   0,   0,   0,   0,   0,   0,   0,   0,   0,   0,   0,   0,\n",
              "          0,   0]], dtype=uint8)"
            ]
          },
          "metadata": {
            "tags": []
          },
          "execution_count": 4
        }
      ]
    },
    {
      "cell_type": "markdown",
      "metadata": {
        "id": "BnajruXx4OHI",
        "colab_type": "text"
      },
      "source": [
        "#### Splitting the dataset into train and validation \n",
        "##### We will scale the pixel intensities between the range 0-1 by dividing the data points by 255.0 . this will convert them into floats "
      ]
    },
    {
      "cell_type": "code",
      "metadata": {
        "id": "glnBEOK13-MB",
        "colab_type": "code",
        "colab": {}
      },
      "source": [
        "X_valid , X_train = X_train_full[:5000]/255.0, X_train_full[5000:]/255.0\n",
        "y_valid , y_train = y_train_full[:5000], y_train_full[5000:]"
      ],
      "execution_count": 5,
      "outputs": []
    },
    {
      "cell_type": "code",
      "metadata": {
        "id": "BaoP-WmJKn18",
        "colab_type": "code",
        "colab": {
          "base_uri": "https://localhost:8080/",
          "height": 50
        },
        "outputId": "11ac8d6a-9149-4c82-80a8-b5ac34f7af1f"
      },
      "source": [
        "print(X_train_full.shape)\n",
        "print(X_train.shape)"
      ],
      "execution_count": 6,
      "outputs": [
        {
          "output_type": "stream",
          "text": [
            "(60000, 28, 28)\n",
            "(55000, 28, 28)\n"
          ],
          "name": "stdout"
        }
      ]
    },
    {
      "cell_type": "code",
      "metadata": {
        "id": "ADiQ9r4fKdxQ",
        "colab_type": "code",
        "colab": {
          "base_uri": "https://localhost:8080/",
          "height": 50
        },
        "outputId": "febad562-a4da-47d7-b4b5-c0950541407a"
      },
      "source": [
        "print(y_train_full.shape)\n",
        "print(y_train.shape)"
      ],
      "execution_count": 7,
      "outputs": [
        {
          "output_type": "stream",
          "text": [
            "(60000,)\n",
            "(55000,)\n"
          ],
          "name": "stdout"
        }
      ]
    },
    {
      "cell_type": "code",
      "metadata": {
        "id": "etIOJjSpLGAj",
        "colab_type": "code",
        "colab": {
          "base_uri": "https://localhost:8080/",
          "height": 34
        },
        "outputId": "a6505805-539a-425d-ab71-2523eaa95571"
      },
      "source": [
        "y_train[0]"
      ],
      "execution_count": 8,
      "outputs": [
        {
          "output_type": "execute_result",
          "data": {
            "text/plain": [
              "4"
            ]
          },
          "metadata": {
            "tags": []
          },
          "execution_count": 8
        }
      ]
    },
    {
      "cell_type": "markdown",
      "metadata": {
        "id": "ipQzJCGp5MT8",
        "colab_type": "text"
      },
      "source": [
        "##### we will specify the class names for classifying the data points to relevant class"
      ]
    },
    {
      "cell_type": "code",
      "metadata": {
        "id": "elYYfFdC5JoE",
        "colab_type": "code",
        "colab": {
          "base_uri": "https://localhost:8080/",
          "height": 35
        },
        "outputId": "500edd0c-cb34-40b9-c532-461309eafa83"
      },
      "source": [
        "class_names = ['T-shirt/Top','Trouser','Pullover','Dress','Coat','Sandal','Shirt','Sneaker','Bag','Ankel Boot']\n",
        "class_names[y_train[0]]"
      ],
      "execution_count": 9,
      "outputs": [
        {
          "output_type": "execute_result",
          "data": {
            "application/vnd.google.colaboratory.intrinsic+json": {
              "type": "string"
            },
            "text/plain": [
              "'Coat'"
            ]
          },
          "metadata": {
            "tags": []
          },
          "execution_count": 9
        }
      ]
    },
    {
      "cell_type": "code",
      "metadata": {
        "id": "pzOR5S28MLju",
        "colab_type": "code",
        "colab": {}
      },
      "source": [
        ""
      ],
      "execution_count": 9,
      "outputs": []
    },
    {
      "cell_type": "markdown",
      "metadata": {
        "id": "xPzCIu-r6Tyo",
        "colab_type": "text"
      },
      "source": [
        "#### Creating a model using Sequential API"
      ]
    },
    {
      "cell_type": "code",
      "metadata": {
        "id": "_eil08aU6RG3",
        "colab_type": "code",
        "colab": {
          "base_uri": "https://localhost:8080/",
          "height": 286
        },
        "outputId": "d9aeb60a-1526-4688-c495-05d5980e9caf"
      },
      "source": [
        "model = keras.Sequential()\n",
        "model.add(keras.layers.Flatten(input_shape=[28,28]))\n",
        "model.add(keras.layers.Dense(300,activation='relu'))\n",
        "model.add(keras.layers.Dense(100,activation='relu'))\n",
        "model.add(keras.layers.Dense(10,activation='softmax'))\n",
        "\n",
        "model.summary() #displays all the model layers along with the parameters"
      ],
      "execution_count": 10,
      "outputs": [
        {
          "output_type": "stream",
          "text": [
            "Model: \"sequential\"\n",
            "_________________________________________________________________\n",
            "Layer (type)                 Output Shape              Param #   \n",
            "=================================================================\n",
            "flatten (Flatten)            (None, 784)               0         \n",
            "_________________________________________________________________\n",
            "dense (Dense)                (None, 300)               235500    \n",
            "_________________________________________________________________\n",
            "dense_1 (Dense)              (None, 100)               30100     \n",
            "_________________________________________________________________\n",
            "dense_2 (Dense)              (None, 10)                1010      \n",
            "=================================================================\n",
            "Total params: 266,610\n",
            "Trainable params: 266,610\n",
            "Non-trainable params: 0\n",
            "_________________________________________________________________\n"
          ],
          "name": "stdout"
        }
      ]
    },
    {
      "cell_type": "code",
      "metadata": {
        "id": "dDe_F7XB5c0Q",
        "colab_type": "code",
        "colab": {
          "base_uri": "https://localhost:8080/",
          "height": 84
        },
        "outputId": "e70f74bc-938e-4359-8e47-2cccbe76d47d"
      },
      "source": [
        "#to fetch each layer by its index\n",
        "model.layers"
      ],
      "execution_count": 11,
      "outputs": [
        {
          "output_type": "execute_result",
          "data": {
            "text/plain": [
              "[<tensorflow.python.keras.layers.core.Flatten at 0x7ff5bb1d4860>,\n",
              " <tensorflow.python.keras.layers.core.Dense at 0x7ff5bb184128>,\n",
              " <tensorflow.python.keras.layers.core.Dense at 0x7ff5bb1845c0>,\n",
              " <tensorflow.python.keras.layers.core.Dense at 0x7ff5bb184908>]"
            ]
          },
          "metadata": {
            "tags": []
          },
          "execution_count": 11
        }
      ]
    },
    {
      "cell_type": "code",
      "metadata": {
        "id": "9ansL5v359Fm",
        "colab_type": "code",
        "colab": {
          "base_uri": "https://localhost:8080/",
          "height": 35
        },
        "outputId": "2204d0d9-2776-4763-df1b-071200f30b8a"
      },
      "source": [
        "# layer properties\n",
        "hidden1 = model.layers[1]\n",
        "hidden1.name"
      ],
      "execution_count": 12,
      "outputs": [
        {
          "output_type": "execute_result",
          "data": {
            "application/vnd.google.colaboratory.intrinsic+json": {
              "type": "string"
            },
            "text/plain": [
              "'dense'"
            ]
          },
          "metadata": {
            "tags": []
          },
          "execution_count": 12
        }
      ]
    },
    {
      "cell_type": "code",
      "metadata": {
        "id": "rGowF5447dIo",
        "colab_type": "code",
        "colab": {
          "base_uri": "https://localhost:8080/",
          "height": 454
        },
        "outputId": "d8fcc2a5-29cf-4367-85d9-d93351104e1c"
      },
      "source": [
        "weights,biases = hidden1.get_weights()\n",
        "print(weights)\n",
        "print(biases)"
      ],
      "execution_count": 13,
      "outputs": [
        {
          "output_type": "stream",
          "text": [
            "[[ 0.02010518  0.06482738 -0.04902246 ...  0.0191288  -0.06550079\n",
            "   0.06835362]\n",
            " [ 0.02718399 -0.00820161 -0.00799919 ... -0.06275571 -0.06979562\n",
            "   0.04403676]\n",
            " [-0.0474141  -0.07296506 -0.06235306 ...  0.01530217  0.06926456\n",
            "  -0.05787607]\n",
            " ...\n",
            " [-0.00723439 -0.03009103 -0.06753186 ... -0.04307625  0.02563501\n",
            "   0.01863525]\n",
            " [ 0.05300662  0.03868092  0.04808281 ...  0.02908003  0.00830082\n",
            "   0.04372817]\n",
            " [ 0.0343451   0.04272948  0.05837031 ...  0.07433312  0.01413338\n",
            "  -0.05492786]]\n",
            "[0. 0. 0. 0. 0. 0. 0. 0. 0. 0. 0. 0. 0. 0. 0. 0. 0. 0. 0. 0. 0. 0. 0. 0.\n",
            " 0. 0. 0. 0. 0. 0. 0. 0. 0. 0. 0. 0. 0. 0. 0. 0. 0. 0. 0. 0. 0. 0. 0. 0.\n",
            " 0. 0. 0. 0. 0. 0. 0. 0. 0. 0. 0. 0. 0. 0. 0. 0. 0. 0. 0. 0. 0. 0. 0. 0.\n",
            " 0. 0. 0. 0. 0. 0. 0. 0. 0. 0. 0. 0. 0. 0. 0. 0. 0. 0. 0. 0. 0. 0. 0. 0.\n",
            " 0. 0. 0. 0. 0. 0. 0. 0. 0. 0. 0. 0. 0. 0. 0. 0. 0. 0. 0. 0. 0. 0. 0. 0.\n",
            " 0. 0. 0. 0. 0. 0. 0. 0. 0. 0. 0. 0. 0. 0. 0. 0. 0. 0. 0. 0. 0. 0. 0. 0.\n",
            " 0. 0. 0. 0. 0. 0. 0. 0. 0. 0. 0. 0. 0. 0. 0. 0. 0. 0. 0. 0. 0. 0. 0. 0.\n",
            " 0. 0. 0. 0. 0. 0. 0. 0. 0. 0. 0. 0. 0. 0. 0. 0. 0. 0. 0. 0. 0. 0. 0. 0.\n",
            " 0. 0. 0. 0. 0. 0. 0. 0. 0. 0. 0. 0. 0. 0. 0. 0. 0. 0. 0. 0. 0. 0. 0. 0.\n",
            " 0. 0. 0. 0. 0. 0. 0. 0. 0. 0. 0. 0. 0. 0. 0. 0. 0. 0. 0. 0. 0. 0. 0. 0.\n",
            " 0. 0. 0. 0. 0. 0. 0. 0. 0. 0. 0. 0. 0. 0. 0. 0. 0. 0. 0. 0. 0. 0. 0. 0.\n",
            " 0. 0. 0. 0. 0. 0. 0. 0. 0. 0. 0. 0. 0. 0. 0. 0. 0. 0. 0. 0. 0. 0. 0. 0.\n",
            " 0. 0. 0. 0. 0. 0. 0. 0. 0. 0. 0. 0.]\n"
          ],
          "name": "stdout"
        }
      ]
    },
    {
      "cell_type": "code",
      "metadata": {
        "id": "hm22VXq18As9",
        "colab_type": "code",
        "colab": {
          "base_uri": "https://localhost:8080/",
          "height": 34
        },
        "outputId": "44345a8a-8b35-4aa1-94ed-a16ce54a75dc"
      },
      "source": [
        "weights.shape"
      ],
      "execution_count": 14,
      "outputs": [
        {
          "output_type": "execute_result",
          "data": {
            "text/plain": [
              "(784, 300)"
            ]
          },
          "metadata": {
            "tags": []
          },
          "execution_count": 14
        }
      ]
    },
    {
      "cell_type": "code",
      "metadata": {
        "id": "hqN3DiUw8QrG",
        "colab_type": "code",
        "colab": {
          "base_uri": "https://localhost:8080/",
          "height": 34
        },
        "outputId": "405988a8-c9de-4837-fa36-17cda6e9e4a6"
      },
      "source": [
        "biases.shape"
      ],
      "execution_count": 15,
      "outputs": [
        {
          "output_type": "execute_result",
          "data": {
            "text/plain": [
              "(300,)"
            ]
          },
          "metadata": {
            "tags": []
          },
          "execution_count": 15
        }
      ]
    },
    {
      "cell_type": "markdown",
      "metadata": {
        "id": "PgMXJD7m8nel",
        "colab_type": "text"
      },
      "source": [
        "#### Compiling the model"
      ]
    },
    {
      "cell_type": "code",
      "metadata": {
        "id": "3eC9dSAk8S1a",
        "colab_type": "code",
        "colab": {}
      },
      "source": [
        "model.compile(optimizer=keras.optimizers.SGD(),\n",
        "              loss='sparse_categorical_crossentropy',\n",
        "              metrics=['accuracy'])"
      ],
      "execution_count": 24,
      "outputs": []
    },
    {
      "cell_type": "markdown",
      "metadata": {
        "id": "YH1i4SUH9lPj",
        "colab_type": "text"
      },
      "source": [
        "#### Training and Evaluating the model"
      ]
    },
    {
      "cell_type": "code",
      "metadata": {
        "id": "EdN69bkK8gS2",
        "colab_type": "code",
        "colab": {
          "base_uri": "https://localhost:8080/",
          "height": 1000
        },
        "outputId": "5e67fdc5-bd22-4550-eae7-47586befe18e"
      },
      "source": [
        "history = model.fit(X_train,y_train,epochs=50,validation_data=(X_valid,y_valid))"
      ],
      "execution_count": 25,
      "outputs": [
        {
          "output_type": "stream",
          "text": [
            "Epoch 1/50\n",
            "1719/1719 [==============================] - 5s 3ms/step - loss: 0.4067 - accuracy: 0.8582 - val_loss: 0.4066 - val_accuracy: 0.8634\n",
            "Epoch 2/50\n",
            "1719/1719 [==============================] - 4s 3ms/step - loss: 0.3813 - accuracy: 0.8663 - val_loss: 0.3760 - val_accuracy: 0.8706\n",
            "Epoch 3/50\n",
            "1719/1719 [==============================] - 4s 3ms/step - loss: 0.3681 - accuracy: 0.8714 - val_loss: 0.3783 - val_accuracy: 0.8692\n",
            "Epoch 4/50\n",
            "1719/1719 [==============================] - 4s 3ms/step - loss: 0.3553 - accuracy: 0.8747 - val_loss: 0.3727 - val_accuracy: 0.8722\n",
            "Epoch 5/50\n",
            "1719/1719 [==============================] - 5s 3ms/step - loss: 0.3442 - accuracy: 0.8791 - val_loss: 0.3427 - val_accuracy: 0.8778\n",
            "Epoch 6/50\n",
            "1719/1719 [==============================] - 5s 3ms/step - loss: 0.3354 - accuracy: 0.8813 - val_loss: 0.3521 - val_accuracy: 0.8766\n",
            "Epoch 7/50\n",
            "1719/1719 [==============================] - 4s 3ms/step - loss: 0.3259 - accuracy: 0.8834 - val_loss: 0.3477 - val_accuracy: 0.8782\n",
            "Epoch 8/50\n",
            "1719/1719 [==============================] - 4s 3ms/step - loss: 0.3172 - accuracy: 0.8864 - val_loss: 0.3321 - val_accuracy: 0.8840\n",
            "Epoch 9/50\n",
            "1719/1719 [==============================] - 4s 3ms/step - loss: 0.3102 - accuracy: 0.8896 - val_loss: 0.3384 - val_accuracy: 0.8812\n",
            "Epoch 10/50\n",
            "1719/1719 [==============================] - 4s 3ms/step - loss: 0.3037 - accuracy: 0.8914 - val_loss: 0.3243 - val_accuracy: 0.8854\n",
            "Epoch 11/50\n",
            "1719/1719 [==============================] - 4s 3ms/step - loss: 0.2964 - accuracy: 0.8946 - val_loss: 0.3242 - val_accuracy: 0.8872\n",
            "Epoch 12/50\n",
            "1719/1719 [==============================] - 4s 3ms/step - loss: 0.2906 - accuracy: 0.8965 - val_loss: 0.3323 - val_accuracy: 0.8830\n",
            "Epoch 13/50\n",
            "1719/1719 [==============================] - 4s 3ms/step - loss: 0.2850 - accuracy: 0.8988 - val_loss: 0.3224 - val_accuracy: 0.8840\n",
            "Epoch 14/50\n",
            "1719/1719 [==============================] - 5s 3ms/step - loss: 0.2796 - accuracy: 0.8996 - val_loss: 0.3140 - val_accuracy: 0.8898\n",
            "Epoch 15/50\n",
            "1719/1719 [==============================] - 5s 3ms/step - loss: 0.2731 - accuracy: 0.9028 - val_loss: 0.3246 - val_accuracy: 0.8872\n",
            "Epoch 16/50\n",
            "1719/1719 [==============================] - 5s 3ms/step - loss: 0.2695 - accuracy: 0.9036 - val_loss: 0.3068 - val_accuracy: 0.8902\n",
            "Epoch 17/50\n",
            "1719/1719 [==============================] - 5s 3ms/step - loss: 0.2640 - accuracy: 0.9049 - val_loss: 0.3119 - val_accuracy: 0.8898\n",
            "Epoch 18/50\n",
            "1719/1719 [==============================] - 5s 3ms/step - loss: 0.2595 - accuracy: 0.9073 - val_loss: 0.3250 - val_accuracy: 0.8814\n",
            "Epoch 19/50\n",
            "1719/1719 [==============================] - 4s 3ms/step - loss: 0.2553 - accuracy: 0.9083 - val_loss: 0.3063 - val_accuracy: 0.8920\n",
            "Epoch 20/50\n",
            "1719/1719 [==============================] - 4s 3ms/step - loss: 0.2502 - accuracy: 0.9104 - val_loss: 0.3058 - val_accuracy: 0.8888\n",
            "Epoch 21/50\n",
            "1719/1719 [==============================] - 4s 3ms/step - loss: 0.2461 - accuracy: 0.9124 - val_loss: 0.3127 - val_accuracy: 0.8896\n",
            "Epoch 22/50\n",
            "1719/1719 [==============================] - 4s 3ms/step - loss: 0.2413 - accuracy: 0.9142 - val_loss: 0.3080 - val_accuracy: 0.8886\n",
            "Epoch 23/50\n",
            "1719/1719 [==============================] - 4s 3ms/step - loss: 0.2371 - accuracy: 0.9160 - val_loss: 0.3002 - val_accuracy: 0.8940\n",
            "Epoch 24/50\n",
            "1719/1719 [==============================] - 4s 3ms/step - loss: 0.2340 - accuracy: 0.9161 - val_loss: 0.3021 - val_accuracy: 0.8922\n",
            "Epoch 25/50\n",
            "1719/1719 [==============================] - 4s 3ms/step - loss: 0.2294 - accuracy: 0.9179 - val_loss: 0.2986 - val_accuracy: 0.8904\n",
            "Epoch 26/50\n",
            "1719/1719 [==============================] - 4s 3ms/step - loss: 0.2266 - accuracy: 0.9193 - val_loss: 0.3168 - val_accuracy: 0.8868\n",
            "Epoch 27/50\n",
            "1719/1719 [==============================] - 4s 3ms/step - loss: 0.2228 - accuracy: 0.9205 - val_loss: 0.2929 - val_accuracy: 0.8976\n",
            "Epoch 28/50\n",
            "1719/1719 [==============================] - 4s 3ms/step - loss: 0.2188 - accuracy: 0.9210 - val_loss: 0.3019 - val_accuracy: 0.8936\n",
            "Epoch 29/50\n",
            "1719/1719 [==============================] - 5s 3ms/step - loss: 0.2160 - accuracy: 0.9233 - val_loss: 0.3050 - val_accuracy: 0.8914\n",
            "Epoch 30/50\n",
            "1719/1719 [==============================] - 5s 3ms/step - loss: 0.2119 - accuracy: 0.9243 - val_loss: 0.2918 - val_accuracy: 0.8928\n",
            "Epoch 31/50\n",
            "1719/1719 [==============================] - 4s 3ms/step - loss: 0.2088 - accuracy: 0.9253 - val_loss: 0.2967 - val_accuracy: 0.8964\n",
            "Epoch 32/50\n",
            "1719/1719 [==============================] - 4s 3ms/step - loss: 0.2043 - accuracy: 0.9277 - val_loss: 0.3077 - val_accuracy: 0.8920\n",
            "Epoch 33/50\n",
            "1719/1719 [==============================] - 4s 3ms/step - loss: 0.2020 - accuracy: 0.9274 - val_loss: 0.3002 - val_accuracy: 0.8948\n",
            "Epoch 34/50\n",
            "1719/1719 [==============================] - 4s 3ms/step - loss: 0.2000 - accuracy: 0.9280 - val_loss: 0.2962 - val_accuracy: 0.8934\n",
            "Epoch 35/50\n",
            "1719/1719 [==============================] - 5s 3ms/step - loss: 0.1966 - accuracy: 0.9294 - val_loss: 0.2906 - val_accuracy: 0.8984\n",
            "Epoch 36/50\n",
            "1719/1719 [==============================] - 5s 3ms/step - loss: 0.1925 - accuracy: 0.9311 - val_loss: 0.3096 - val_accuracy: 0.8932\n",
            "Epoch 37/50\n",
            "1719/1719 [==============================] - 5s 3ms/step - loss: 0.1891 - accuracy: 0.9321 - val_loss: 0.2866 - val_accuracy: 0.8986\n",
            "Epoch 38/50\n",
            "1719/1719 [==============================] - 5s 3ms/step - loss: 0.1873 - accuracy: 0.9335 - val_loss: 0.2833 - val_accuracy: 0.8998\n",
            "Epoch 39/50\n",
            "1719/1719 [==============================] - 5s 3ms/step - loss: 0.1827 - accuracy: 0.9350 - val_loss: 0.3176 - val_accuracy: 0.8902\n",
            "Epoch 40/50\n",
            "1719/1719 [==============================] - 4s 3ms/step - loss: 0.1800 - accuracy: 0.9355 - val_loss: 0.3038 - val_accuracy: 0.8950\n",
            "Epoch 41/50\n",
            "1719/1719 [==============================] - 4s 3ms/step - loss: 0.1773 - accuracy: 0.9364 - val_loss: 0.2985 - val_accuracy: 0.8962\n",
            "Epoch 42/50\n",
            "1719/1719 [==============================] - 5s 3ms/step - loss: 0.1745 - accuracy: 0.9374 - val_loss: 0.3418 - val_accuracy: 0.8780\n",
            "Epoch 43/50\n",
            "1719/1719 [==============================] - 4s 3ms/step - loss: 0.1726 - accuracy: 0.9389 - val_loss: 0.2930 - val_accuracy: 0.8984\n",
            "Epoch 44/50\n",
            "1719/1719 [==============================] - 4s 3ms/step - loss: 0.1683 - accuracy: 0.9395 - val_loss: 0.2981 - val_accuracy: 0.8930\n",
            "Epoch 45/50\n",
            "1719/1719 [==============================] - 4s 3ms/step - loss: 0.1663 - accuracy: 0.9417 - val_loss: 0.3001 - val_accuracy: 0.8958\n",
            "Epoch 46/50\n",
            "1719/1719 [==============================] - 4s 3ms/step - loss: 0.1634 - accuracy: 0.9417 - val_loss: 0.3061 - val_accuracy: 0.8936\n",
            "Epoch 47/50\n",
            "1719/1719 [==============================] - 5s 3ms/step - loss: 0.1611 - accuracy: 0.9422 - val_loss: 0.3036 - val_accuracy: 0.8978\n",
            "Epoch 48/50\n",
            "1719/1719 [==============================] - 4s 3ms/step - loss: 0.1588 - accuracy: 0.9433 - val_loss: 0.2872 - val_accuracy: 0.8998\n",
            "Epoch 49/50\n",
            "1719/1719 [==============================] - 5s 3ms/step - loss: 0.1559 - accuracy: 0.9434 - val_loss: 0.2973 - val_accuracy: 0.8974\n",
            "Epoch 50/50\n",
            "1719/1719 [==============================] - 4s 3ms/step - loss: 0.1537 - accuracy: 0.9447 - val_loss: 0.3223 - val_accuracy: 0.8932\n"
          ],
          "name": "stdout"
        }
      ]
    },
    {
      "cell_type": "markdown",
      "metadata": {
        "id": "zPmHA26B_SgM",
        "colab_type": "text"
      },
      "source": [
        "#### Plotting the learning curves\n"
      ]
    },
    {
      "cell_type": "code",
      "metadata": {
        "id": "JHRLE2Pu96MX",
        "colab_type": "code",
        "colab": {
          "base_uri": "https://localhost:8080/",
          "height": 324
        },
        "outputId": "337151c0-a470-4267-9d13-6193bbfae498"
      },
      "source": [
        "import pandas as pd\n",
        "import matplotlib.pyplot as plt\n",
        "\n",
        "pd.DataFrame(history.history).plot(figsize=(8,5))\n",
        "plt.grid(True)\n",
        "plt.gca().set_ylim(0,1)\n",
        "plt.show()"
      ],
      "execution_count": 26,
      "outputs": [
        {
          "output_type": "display_data",
          "data": {
            "image/png": "[encoded data removed]",
            "text/plain": [
              "<Figure size 576x360 with 1 Axes>"
            ]
          },
          "metadata": {
            "tags": [],
            "needs_background": "light"
          }
        }
      ]
    },
    {
      "cell_type": "markdown",
      "metadata": {
        "id": "tVSvRPErDhPf",
        "colab_type": "text"
      },
      "source": [
        "#### Evaluating the model"
      ]
    },
    {
      "cell_type": "code",
      "metadata": {
        "id": "tLOYyJng_zID",
        "colab_type": "code",
        "colab": {
          "base_uri": "https://localhost:8080/",
          "height": 50
        },
        "outputId": "63783515-e1a9-4d35-f3db-964680d5cffc"
      },
      "source": [
        "model.evaluate(X_test,y_test)"
      ],
      "execution_count": 27,
      "outputs": [
        {
          "output_type": "stream",
          "text": [
            "313/313 [==============================] - 1s 2ms/step - loss: 93.7868 - accuracy: 0.8230\n"
          ],
          "name": "stdout"
        },
        {
          "output_type": "execute_result",
          "data": {
            "text/plain": [
              "[93.7867660522461, 0.8230000138282776]"
            ]
          },
          "metadata": {
            "tags": []
          },
          "execution_count": 27
        }
      ]
    },
    {
      "cell_type": "markdown",
      "metadata": {
        "id": "vRQ2eOacEM2m",
        "colab_type": "text"
      },
      "source": [
        "#### Make Predictions"
      ]
    },
    {
      "cell_type": "code",
      "metadata": {
        "id": "wqEyCKRmDpMn",
        "colab_type": "code",
        "colab": {
          "base_uri": "https://localhost:8080/",
          "height": 67
        },
        "outputId": "b581c1ae-42b3-4f46-fe42-6ca9c2d6cf1b"
      },
      "source": [
        "X_new = X_test[:3]\n",
        "y_proba = model.predict(X_new)\n",
        "y_proba"
      ],
      "execution_count": 28,
      "outputs": [
        {
          "output_type": "execute_result",
          "data": {
            "text/plain": [
              "array([[0., 0., 0., 0., 0., 0., 0., 0., 0., 1.],\n",
              "       [0., 0., 1., 0., 0., 0., 0., 0., 0., 0.],\n",
              "       [0., 1., 0., 0., 0., 0., 0., 0., 0., 0.]], dtype=float32)"
            ]
          },
          "metadata": {
            "tags": []
          },
          "execution_count": 28
        }
      ]
    },
    {
      "cell_type": "code",
      "metadata": {
        "id": "Qmw3JhFLEZD1",
        "colab_type": "code",
        "colab": {
          "base_uri": "https://localhost:8080/",
          "height": 34
        },
        "outputId": "dc827d20-8fef-496d-b525-c6777d9381eb"
      },
      "source": [
        "pred = model.predict_classes(X_new)\n",
        "pred"
      ],
      "execution_count": 29,
      "outputs": [
        {
          "output_type": "execute_result",
          "data": {
            "text/plain": [
              "array([9, 2, 1])"
            ]
          },
          "metadata": {
            "tags": []
          },
          "execution_count": 29
        }
      ]
    },
    {
      "cell_type": "code",
      "metadata": {
        "id": "KhbeiPG7EcZC",
        "colab_type": "code",
        "colab": {
          "base_uri": "https://localhost:8080/",
          "height": 34
        },
        "outputId": "dafa7bbd-eb11-4278-961d-d0eb472464d9"
      },
      "source": [
        "import numpy as np\n",
        "np.array(class_names)[pred]"
      ],
      "execution_count": 30,
      "outputs": [
        {
          "output_type": "execute_result",
          "data": {
            "text/plain": [
              "array(['Ankel Boot', 'Pullover', 'Trouser'], dtype='<U11')"
            ]
          },
          "metadata": {
            "tags": []
          },
          "execution_count": 30
        }
      ]
    },
    {
      "cell_type": "code",
      "metadata": {
        "id": "fCIBAC8EE3im",
        "colab_type": "code",
        "colab": {
          "base_uri": "https://localhost:8080/",
          "height": 34
        },
        "outputId": "847be2e1-7e03-49b6-fef1-958272016737"
      },
      "source": [
        "y_new = y_test[:3]\n",
        "y_new"
      ],
      "execution_count": 31,
      "outputs": [
        {
          "output_type": "execute_result",
          "data": {
            "text/plain": [
              "array([9, 2, 1], dtype=uint8)"
            ]
          },
          "metadata": {
            "tags": []
          },
          "execution_count": 31
        }
      ]
    },
    {
      "cell_type": "markdown",
      "metadata": {
        "id": "CqsvdOT5O5wg",
        "colab_type": "text"
      },
      "source": [
        "The Predicted and the data points in the test data are almost the same."
      ]
    },
    {
      "cell_type": "code",
      "metadata": {
        "id": "5Ay18lGVFAsf",
        "colab_type": "code",
        "colab": {}
      },
      "source": [
        ""
      ],
      "execution_count": 23,
      "outputs": []
    }
  ]
}